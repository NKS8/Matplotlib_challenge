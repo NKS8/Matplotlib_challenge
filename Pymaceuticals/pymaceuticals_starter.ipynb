{
 "cells": [
  {
   "cell_type": "markdown",
   "metadata": {},
   "source": []
  },
  {
   "cell_type": "code",
   "execution_count": null,
   "metadata": {},
   "outputs": [],
   "source": []
  },
  {
   "cell_type": "code",
   "execution_count": null,
   "metadata": {},
   "outputs": [],
   "source": [
    "# Dependencies and Setup\n",
    "import numpy as np\n",
    "import matplotlib.pyplot as plt\n",
    "import pandas as pd\n",
    "import scipy.stats as stats\n",
    "from scipy.stats import sem \n",
    "from scipy.stats import linregress \n",
    "from sklearn import datasets"
   ]
  },
  {
   "cell_type": "code",
   "execution_count": null,
   "metadata": {},
   "outputs": [],
   "source": [
    "# download and cread df by data file 1 named below \n",
    "mouse_metadata_df =pd.read_csv(\"data/Mouse_metadata.csv\")\n",
    "mouse_metadata_df.head(2)"
   ]
  },
  {
   "cell_type": "code",
   "execution_count": null,
   "metadata": {},
   "outputs": [],
   "source": [
    "# no duplicates int this data when start\n",
    "check_dupl_mouse_df =mouse_metadata_df[mouse_metadata_df.duplicated([\"Mouse ID\"])]\n",
    "print(check_dupl_mouse_df)"
   ]
  },
  {
   "cell_type": "code",
   "execution_count": null,
   "metadata": {},
   "outputs": [],
   "source": [
    "# # download and cread df by data file 2 named below \n",
    "study_results_df = pd.read_csv(\"data/Study_results.csv\")\n",
    "study_results_df.head(2)"
   ]
  },
  {
   "cell_type": "code",
   "execution_count": null,
   "metadata": {},
   "outputs": [],
   "source": [
    "# checking how many unique mouse studies by checking mouse study data \n",
    "mouse_id_count =len(study_results_df[\"Mouse ID\"].unique()) \n",
    "# when i use .unique() I can get the series of mouseID's and\n",
    "# get length of it will tell me how many unique mouse there are\n",
    "mouse_id_count\n",
    "# check the number of mice"
   ]
  },
  {
   "cell_type": "code",
   "execution_count": null,
   "metadata": {},
   "outputs": [],
   "source": [
    "# Combine mouse data and stduy meta data od mouse into a single dataset\n",
    "# Start working and getting statistics from this df\n",
    "combined_df = pd.merge(study_results_df, mouse_metadata_df, how = \"outer\", on = \"Mouse ID\")\n",
    "combined_df.head(2)"
   ]
  },
  {
   "cell_type": "code",
   "execution_count": null,
   "metadata": {},
   "outputs": [],
   "source": [
    "# Find any duplicate rows with the same Mouse ID's and Timepoints from \n",
    "    # We suppose to haev 248 mouse, therefore need to check the data for any mouse ID \n",
    "    # with duplicate time points and \n",
    "    # remove any data associated with that mouse ID.\n",
    "dupl_mouse_df =combined_df[combined_df.duplicated([\"Mouse ID\",\"Timepoint\"], keep=False)]\n",
    "dupl_mouse_df.head(2)"
   ]
  },
  {
   "cell_type": "code",
   "execution_count": null,
   "metadata": {},
   "outputs": [],
   "source": [
    "# since time point is only in the study table i just work with study table\n",
    "# keeping all records except rows that located by using loc func for \n",
    "# specific mouse id \"g989\"\n",
    "cleaned_combined_df = combined_df.loc[combined_df[\"Mouse ID\"] != \"g989\"]\n",
    "cleaned_combined_df.head(2)"
   ]
  },
  {
   "cell_type": "code",
   "execution_count": null,
   "metadata": {},
   "outputs": [],
   "source": [
    "# Recheck the number of mice\n",
    "mouse_id_count_nondupl =len(cleaned_combined_df[\"Mouse ID\"].unique())\n",
    "# by doing this I will the list/dataseries of unique mouse id, and\n",
    "# length of it will give me the how many unique mouse it the study\n",
    "mouse_id_count_nondupl "
   ]
  },
  {
   "cell_type": "code",
   "execution_count": null,
   "metadata": {},
   "outputs": [],
   "source": [
    "# Start working and getting statistics from this df\n",
    "cleaned_combined_df = cleaned_combined_df.fillna(0)\n",
    "cleaned_combined_df.head(2)"
   ]
  },
  {
   "cell_type": "code",
   "execution_count": null,
   "metadata": {},
   "outputs": [],
   "source": [
    "cleaned_combined_df.isnull().any().any()"
   ]
  },
  {
   "cell_type": "markdown",
   "metadata": {},
   "source": [
    "## Summary Statistics"
   ]
  },
  {
   "cell_type": "code",
   "execution_count": null,
   "metadata": {},
   "outputs": [],
   "source": [
    "# Generate a summary statistics table of mean, median, variance, \n",
    "# standard deviation, and SEM of the tumor volume for each drug regimen.\n",
    "mean = cleaned_combined_df.groupby(\"Drug Regimen\")[\"Tumor Volume (mm3)\"].mean()\n",
    "#  median, variance,standard deviation, and SEM of the tumor volume for each regimen\n",
    "median = cleaned_combined_df.groupby(\"Drug Regimen\")[\"Tumor Volume (mm3)\"].median()\n",
    "#variance,standard deviation, and SEM of the tumor volume for each regimen\n",
    "variance = cleaned_combined_df.groupby(\"Drug Regimen\")[\"Tumor Volume (mm3)\"].var()\n",
    "std_div = cleaned_combined_df.groupby(\"Drug Regimen\")[\"Tumor Volume (mm3)\"].std()\n",
    "#SEM of the tumor volume for each regimen\n",
    "sem_err = cleaned_combined_df.groupby(\"Drug Regimen\")[\"Tumor Volume (mm3)\"].sem()\n"
   ]
  },
  {
   "cell_type": "code",
   "execution_count": null,
   "metadata": {},
   "outputs": [],
   "source": [
    "# single line using agg func get the summary statistics table \n",
    "summ_stat_df = cleaned_combined_df.groupby(\"Drug Regimen\").agg({\"Tumor Volume (mm3)\": [\"mean\", \"median\",\"var\",\"std\",\"sem\"]})\n",
    "summ_stat_df"
   ]
  },
  {
   "cell_type": "code",
   "execution_count": null,
   "metadata": {},
   "outputs": [],
   "source": [
    "# counted_by_drug_reg_df= cleaned_combined_df.groupby(\"Drug Regimen\")[\"Tumor Volume (mm3)\"].count()\n",
    "# counted_by_drug_reg_df"
   ]
  },
  {
   "cell_type": "code",
   "execution_count": null,
   "metadata": {},
   "outputs": [],
   "source": [
    "#print(f\"categories of drugs : {len(counted_by_drug_reg_df)}\")"
   ]
  },
  {
   "cell_type": "code",
   "execution_count": null,
   "metadata": {},
   "outputs": [],
   "source": [
    "# grouped_study_df = study_results_df.groupby([\"Mouse ID\",\"Timepoint\",'Tumor Volume (mm3)'])\n",
    "# mouse_at_timepoints_vol= grouped_study_df.nunique()\n",
    "# mouse_at_timepoints_vol.head(50)"
   ]
  },
  {
   "cell_type": "code",
   "execution_count": null,
   "metadata": {},
   "outputs": [],
   "source": [
    "## Bar and Pie Charts"
   ]
  },
  {
   "cell_type": "code",
   "execution_count": null,
   "metadata": {},
   "outputs": [],
   "source": [
    "grouped_df_to_extract= cleaned_combined_df[[\"Drug Regimen\", \"Mouse ID\"]].groupby(\"Drug Regimen\")\n",
    "grouped_df_to_extract"
   ]
  },
  {
   "cell_type": "code",
   "execution_count": null,
   "metadata": {},
   "outputs": [],
   "source": [
    "num_mice_df = pd.DataFrame(grouped_df_to_extract[\"Mouse ID\"].count())\n"
   ]
  },
  {
   "cell_type": "code",
   "execution_count": null,
   "metadata": {},
   "outputs": [],
   "source": [
    "num_mice_used_each_drug=num_mice_df.sort_values(\"Mouse ID\", ascending = False)\n",
    "num_mice_used_each_drug"
   ]
  },
  {
   "cell_type": "code",
   "execution_count": null,
   "metadata": {},
   "outputs": [],
   "source": [
    "# by pandas\n",
    "# Generate a bar plot showing the total number of mouse tested \n",
    "# for each drug regimen.\n",
    "# There should be a single bar per regimen\n",
    "bar_chart = num_mice_used_each_drug.plot(kind=\"bar\", figsize=(8,4))\n",
    "#Set a title for the chart\n",
    "bar_chart.set_ylabel(\"Number of mice tested per drug regimen\")\n",
    "bar_chart.set_title(\"Number of mouses used for each drug regimen throughout study\")\n",
    "#Display chart\n",
    "plt.show()\n",
    "plt.tight_layout() # to fit better"
   ]
  },
  {
   "cell_type": "code",
   "execution_count": null,
   "metadata": {},
   "outputs": [],
   "source": [
    "drug_reg =  num_mice_df.index.tolist()"
   ]
  },
  {
   "cell_type": "code",
   "execution_count": null,
   "metadata": {},
   "outputs": [],
   "source": [
    "drug_reg"
   ]
  },
  {
   "cell_type": "code",
   "execution_count": null,
   "metadata": {},
   "outputs": [],
   "source": [
    "mouse_count = num_mice_used_each_drug[\"Mouse ID\"].tolist()\n",
    "mouse_count"
   ]
  },
  {
   "cell_type": "code",
   "execution_count": null,
   "metadata": {},
   "outputs": [],
   "source": [
    "x_axis = np.arange(len(drug_reg))"
   ]
  },
  {
   "cell_type": "code",
   "execution_count": null,
   "metadata": {},
   "outputs": [],
   "source": [
    "tick_loc = [value  for value in x_axis]"
   ]
  },
  {
   "cell_type": "code",
   "execution_count": null,
   "metadata": {},
   "outputs": [],
   "source": [
    "# plotting by pyplot\n",
    "plt.figure(figsize=(7,5))\n",
    "plt.bar(x_axis, mouse_count, color=\"steelblue\", alpha=0.9, align=\"center\")\n",
    "plt.xticks(tick_loc, drug_reg, rotation=\"vertical\") # drug regime is name for bar \n",
    "\n",
    "plt.xlabel(\"Drug regimens\")\n",
    "plt.ylabel(\"Number of mice Tested\")\n",
    "plt.title(\"Number of mouses used for each drug regimen throughout study\")\n",
    "plt.xlim(-0.75, 10)\n",
    "plt.ylim(0, 250)\n",
    "plt.tight_layout()\n",
    "plt.show()"
   ]
  },
  {
   "cell_type": "code",
   "execution_count": null,
   "metadata": {},
   "outputs": [],
   "source": [
    "# grouped by gender \n",
    "gender_group = cleaned_combined_df[[\"Mouse ID\",\"Sex\"]].groupby(\"Sex\")\n",
    "gender_group"
   ]
  },
  {
   "cell_type": "code",
   "execution_count": null,
   "metadata": {},
   "outputs": [],
   "source": [
    "gender_group_count = gender_group[\"Mouse ID\"].count()\n",
    "gender_group_count"
   ]
  },
  {
   "cell_type": "code",
   "execution_count": null,
   "metadata": {},
   "outputs": [],
   "source": [
    "# by panda \n",
    "fig2, ax2 = plt.subplots(figsize=(4, 4))\n",
    "gender_df = gender_group[\"Sex\"].value_counts()\n",
    "gender_df.plot(kind = \"pie\",autopct='%1.2f%%',\n",
    "            title = \"Gender Distribution of Female vs Male Mice\", \n",
    "               fontsize = 10, startangle=80)\n",
    "\n",
    "plt.axis(\"equal\")\n",
    "plt.show()\n",
    "gender_df"
   ]
  },
  {
   "cell_type": "code",
   "execution_count": null,
   "metadata": {},
   "outputs": [],
   "source": [
    "#by pyplot\n",
    "fig3, ax3 = plt.subplots(figsize =(4,4))\n",
    "labels = gender_group[\"Sex\"].unique()\n",
    "plt.pie(gender_df,autopct='%1.2f%%', \n",
    "        labels=labels,\n",
    "        colors = (\"steelblue\",\"orange\"),\n",
    "        textprops={'fontsize': 10}, startangle=80)\n",
    "plt.title(\"Gender Distribution of Female vs Male Mice\")\n",
    "plt.axis(\"equal\")\n",
    "\n",
    "plt.show()\n"
   ]
  },
  {
   "cell_type": "markdown",
   "metadata": {},
   "source": [
    "## Quartiles, Outliers and Boxplots"
   ]
  },
  {
   "cell_type": "code",
   "execution_count": null,
   "metadata": {},
   "outputs": [],
   "source": [
    "# Calculate the final tumor volume of each mouse \n",
    "# across four of the treatment regimens:  \n",
    "# Capomulin, Ramicane, Infubinol, and Ceftamin\n",
    "\n",
    "# HINT: Not all mice lived until timepoint 45\n",
    "# Start by getting the last (greatest) timepoint for each mouse\n",
    "\n",
    "# Merge this group df with the original dataframe \n",
    "# to get the tumor volume at the last timepoint"
   ]
  },
  {
   "cell_type": "code",
   "execution_count": null,
   "metadata": {},
   "outputs": [],
   "source": [
    "# I wanted to see how Tumor Volume looks at each Timepoint \n",
    "# by each mouse ID and each kind of drug as well\n",
    "grouped_cleancombo_df = cleaned_combined_df.groupby([\"Drug Regimen\",\"Mouse ID\",\"Timepoint\",'Tumor Volume (mm3)'])\n",
    "mouse_at_timepoints_tumor_vol= grouped_cleancombo_df.nunique()\n",
    "mouse_at_timepoints_tumor_vol.head(50)"
   ]
  },
  {
   "cell_type": "code",
   "execution_count": null,
   "metadata": {},
   "outputs": [],
   "source": [
    "treatment_regimes = cleaned_combined_df[cleaned_combined_df[\"Drug Regimen\"].isin([\"Capomulin\", \"Ramicane\", \"Infubinol\", \"Ceftamin\"])]\n",
    "#treatment_regimes = treatment_regimes.sort_values([\"Timepoint\"], ascending=True)\n",
    "treatment_regimes"
   ]
  },
  {
   "cell_type": "code",
   "execution_count": null,
   "metadata": {},
   "outputs": [],
   "source": [
    "treatment_regimes_data_extracted = treatment_regimes[[\"Drug Regimen\", \"Mouse ID\", \"Timepoint\", \"Tumor Volume (mm3)\"]]\n",
    "treatment_regimes_data_extracted"
   ]
  },
  {
   "cell_type": "code",
   "execution_count": null,
   "metadata": {},
   "outputs": [],
   "source": [
    "# in order to see last time point of the tumor volume for each mice by drug types \n",
    "# used .last()[\"Tumor Volume (mm3)\"]\n",
    "treatment_regimes_sorted = treatment_regimes_data_extracted.groupby(['Drug Regimen', \n",
    "                                                                   'Mouse ID']).last()['Tumor Volume (mm3)']\n",
    "print(len(treatment_regimes_sorted))"
   ]
  },
  {
   "cell_type": "code",
   "execution_count": null,
   "metadata": {},
   "outputs": [],
   "source": [
    "# since there are 100 mouse left for 4 drugs \n",
    "# at max timepoint of Tumor volume I will see entire record by \n",
    "# .head(51) & .tail(51) just one row overlapping \n",
    "treatment_regimes_sorted.head(51)"
   ]
  },
  {
   "cell_type": "code",
   "execution_count": null,
   "metadata": {},
   "outputs": [],
   "source": [
    "# .tail(51) to see last half \n",
    "treatment_regimes_sorted.tail(51)"
   ]
  },
  {
   "cell_type": "code",
   "execution_count": null,
   "metadata": {},
   "outputs": [],
   "source": [
    "treatment_regimes_sorted_df = treatment_regimes_sorted.to_frame()\n",
    "treatment_regimes_sorted_df"
   ]
  },
  {
   "cell_type": "code",
   "execution_count": null,
   "metadata": {},
   "outputs": [],
   "source": [
    "### I am just ignore this since i am doing different method\n",
    "# Create empty list to fill with tumor vol data (for plotting)\n",
    "# Calculate the IQR and quantitatively determine if there are any potential outliers. \n",
    "    # Locate the rows which contain mice on each drug and get the tumor volumes    \n",
    "    # add subset \n",
    "    # Determine outliers using upper and lower bounds"
   ]
  },
  {
   "cell_type": "code",
   "execution_count": null,
   "metadata": {},
   "outputs": [],
   "source": [
    "# list to do for loop \n",
    "# Put treatments into a list for for loop \n",
    "# One method to do this is the following, but you can use whatever method works for you.\n",
    "list_drugs = ['Capomulin', 'Ramicane', 'Infubinol','Ceftamin']\n",
    "# Generate a box plot of the final tumor volume of each mouse across four regimens of interest\n",
    "final_tumor_vol_df = treatment_regimes_sorted_df.reset_index()\n",
    "final_tumor_vol_df"
   ]
  },
  {
   "cell_type": "markdown",
   "metadata": {},
   "source": [
    "Calculate the quartiles and IQR and quantitatively determine if there are any potential outliers across all four treatment regimens."
   ]
  },
  {
   "cell_type": "code",
   "execution_count": null,
   "metadata": {},
   "outputs": [],
   "source": [
    "# Calculate quartiles, IQR, and identify potential outliers for each regimen\n",
    "quartiles = final_tumor_vol_df[\"Tumor Volume (mm3)\"].quantile([.25,.5,.75])\n",
    "lowerq = quartiles[0.25]\n",
    "upperq = quartiles[0.75]\n",
    "iqr = upperq-lowerq\n",
    "print(f\"Lower quartile: {lowerq}.\")\n",
    "print(f\"Upper quartile: {upperq}.\")\n",
    "print(f\"Interquartile : {iqr}.\")\n",
    "lower_bound = lowerq - (1.5*iqr)\n",
    "upper_bound = upperq + (1.5*iqr)\n",
    "print(f\"Lower bound: {lower_bound}.\")\n",
    "print(f\"Upper bound : {upper_bound}.\")\n",
    "print(f\"Values below {lower_bound} could be outliers.\")\n",
    "print(f\"Values above {upper_bound} could be outliers.\")"
   ]
  },
  {
   "cell_type": "code",
   "execution_count": null,
   "metadata": {},
   "outputs": [],
   "source": [
    "tumor_lists = final_tumor_vol_df.groupby('Drug Regimen')['Tumor Volume (mm3)'].apply(list)\n",
    "tumor_list_df = pd.DataFrame(tumor_lists)\n",
    "tumor_list_df"
   ]
  },
  {
   "cell_type": "code",
   "execution_count": null,
   "metadata": {},
   "outputs": [],
   "source": [
    "tumor_vols = [vol for vol in tumor_list_df['Tumor Volume (mm3)']]\n"
   ]
  },
  {
   "cell_type": "code",
   "execution_count": null,
   "metadata": {},
   "outputs": [],
   "source": [
    "# Generate a box plot of the final tumor volume of each mouse across four regimens of interest\n",
    "# There should be a single chart with four box plots inside it.\n",
    "red_circle=dict(markerfacecolor='r',marker='o')\n",
    "plt.boxplot(tumor_vols,labels=list_drugs)\n",
    "plt.boxplot(tumor_vols, flierprops=red_circle)\n",
    "plt.ylim(10, 80)\n",
    "plt.ylabel(\"Final Tumor Volume (mm3)\")\n",
    "plt.show()"
   ]
  },
  {
   "cell_type": "markdown",
   "metadata": {},
   "source": [
    "## Line and Scatter Plots"
   ]
  },
  {
   "cell_type": "code",
   "execution_count": null,
   "metadata": {},
   "outputs": [],
   "source": []
  },
  {
   "cell_type": "code",
   "execution_count": null,
   "metadata": {},
   "outputs": [],
   "source": [
    "# mouse_id = input(\"Enter mouse it that wants line graph for Capomolin treatment : \" )"
   ]
  },
  {
   "cell_type": "code",
   "execution_count": 48,
   "metadata": {},
   "outputs": [
    {
     "ename": "NameError",
     "evalue": "name 'mouse_id' is not defined",
     "output_type": "error",
     "traceback": [
      "\u001b[1;31m---------------------------------------------------------------------------\u001b[0m",
      "\u001b[1;31mNameError\u001b[0m                                 Traceback (most recent call last)",
      "\u001b[1;32m<ipython-input-48-be5c8308ff6a>\u001b[0m in \u001b[0;36m<module>\u001b[1;34m\u001b[0m\n\u001b[0;32m      4\u001b[0m \u001b[1;33m\u001b[0m\u001b[0m\n\u001b[0;32m      5\u001b[0m \u001b[0mmouseid_capomulin\u001b[0m\u001b[1;33m.\u001b[0m\u001b[0mplot\u001b[0m\u001b[1;33m(\u001b[0m\u001b[0mfigsize\u001b[0m\u001b[1;33m=\u001b[0m\u001b[1;33m(\u001b[0m\u001b[1;36m7\u001b[0m\u001b[1;33m,\u001b[0m\u001b[1;36m6\u001b[0m\u001b[1;33m)\u001b[0m\u001b[1;33m,\u001b[0m \u001b[0mlinewidth\u001b[0m\u001b[1;33m=\u001b[0m\u001b[1;36m2.5\u001b[0m\u001b[1;33m,\u001b[0m \u001b[0mcolor\u001b[0m\u001b[1;33m=\u001b[0m\u001b[1;34m'blue'\u001b[0m\u001b[1;33m)\u001b[0m\u001b[1;33m\u001b[0m\u001b[1;33m\u001b[0m\u001b[0m\n\u001b[1;32m----> 6\u001b[1;33m \u001b[0mplt\u001b[0m\u001b[1;33m.\u001b[0m\u001b[0mtitle\u001b[0m\u001b[1;33m(\u001b[0m\u001b[0mmouse_id\u001b[0m \u001b[1;33m+\u001b[0m \u001b[1;34m\"= Mouse ID treatment by Capomulin over timepoints\"\u001b[0m\u001b[1;33m)\u001b[0m\u001b[1;33m\u001b[0m\u001b[1;33m\u001b[0m\u001b[0m\n\u001b[0m\u001b[0;32m      7\u001b[0m \u001b[0mplt\u001b[0m\u001b[1;33m.\u001b[0m\u001b[0mxlabel\u001b[0m\u001b[1;33m(\u001b[0m\u001b[1;34m\"Timepoint\"\u001b[0m\u001b[1;33m)\u001b[0m\u001b[1;33m\u001b[0m\u001b[1;33m\u001b[0m\u001b[0m\n\u001b[0;32m      8\u001b[0m \u001b[0mplt\u001b[0m\u001b[1;33m.\u001b[0m\u001b[0mylabel\u001b[0m\u001b[1;33m(\u001b[0m\u001b[1;34m\"Tumor Volume (mm3)\"\u001b[0m\u001b[1;33m)\u001b[0m\u001b[1;33m\u001b[0m\u001b[1;33m\u001b[0m\u001b[0m\n",
      "\u001b[1;31mNameError\u001b[0m: name 'mouse_id' is not defined"
     ]
    },
    {
     "data": {
      "image/png": "[encoded data removed]",
      "text/plain": [
       "<Figure size 504x432 with 1 Axes>"
      ]
     },
     "metadata": {
      "needs_background": "light"
     },
     "output_type": "display_data"
    }
   ],
   "source": [
    "# Generate a line plot of time point versus tumor volume for a mouse treated with Capomuli\n",
    "capomulin_df = treatment_regimes_data_extracted[(treatment_regimes_data_extracted['Drug Regimen']== \"Capomulin\")]\n",
    "mouseid_capomulin = capomulin_df[capomulin_df['Mouse ID']== 'b128'][['Timepoint','Tumor Volume (mm3)']].set_index('Timepoint')\n",
    "\n",
    "mouseid_capomulin.plot(figsize=(7,6), linewidth=2.5, color='blue')\n",
    "plt.title(mouse_id + \"= Mouse ID treatment by Capomulin over timepoints\")\n",
    "plt.xlabel(\"Timepoint\")\n",
    "plt.ylabel(\"Tumor Volume (mm3)\")\n",
    "plt.tight_layout()"
   ]
  },
  {
   "cell_type": "code",
   "execution_count": 49,
   "metadata": {},
   "outputs": [
    {
     "data": {
      "text/html": [
       "<div>\n",
       "<style scoped>\n",
       "    .dataframe tbody tr th:only-of-type {\n",
       "        vertical-align: middle;\n",
       "    }\n",
       "\n",
       "    .dataframe tbody tr th {\n",
       "        vertical-align: top;\n",
       "    }\n",
       "\n",
       "    .dataframe thead th {\n",
       "        text-align: right;\n",
       "    }\n",
       "</style>\n",
       "<table border=\"1\" class=\"dataframe\">\n",
       "  <thead>\n",
       "    <tr style=\"text-align: right;\">\n",
       "      <th></th>\n",
       "      <th>Mouse ID</th>\n",
       "      <th>Timepoint</th>\n",
       "      <th>Tumor Volume (mm3)</th>\n",
       "      <th>Metastatic Sites</th>\n",
       "      <th>Drug Regimen</th>\n",
       "      <th>Sex</th>\n",
       "      <th>Age_months</th>\n",
       "      <th>Weight (g)</th>\n",
       "    </tr>\n",
       "  </thead>\n",
       "  <tbody>\n",
       "    <tr>\n",
       "      <th>0</th>\n",
       "      <td>b128</td>\n",
       "      <td>0</td>\n",
       "      <td>45.000000</td>\n",
       "      <td>0</td>\n",
       "      <td>Capomulin</td>\n",
       "      <td>Female</td>\n",
       "      <td>9</td>\n",
       "      <td>22</td>\n",
       "    </tr>\n",
       "    <tr>\n",
       "      <th>1</th>\n",
       "      <td>b128</td>\n",
       "      <td>5</td>\n",
       "      <td>45.651331</td>\n",
       "      <td>0</td>\n",
       "      <td>Capomulin</td>\n",
       "      <td>Female</td>\n",
       "      <td>9</td>\n",
       "      <td>22</td>\n",
       "    </tr>\n",
       "    <tr>\n",
       "      <th>2</th>\n",
       "      <td>b128</td>\n",
       "      <td>10</td>\n",
       "      <td>43.270852</td>\n",
       "      <td>0</td>\n",
       "      <td>Capomulin</td>\n",
       "      <td>Female</td>\n",
       "      <td>9</td>\n",
       "      <td>22</td>\n",
       "    </tr>\n",
       "    <tr>\n",
       "      <th>3</th>\n",
       "      <td>b128</td>\n",
       "      <td>15</td>\n",
       "      <td>43.784893</td>\n",
       "      <td>0</td>\n",
       "      <td>Capomulin</td>\n",
       "      <td>Female</td>\n",
       "      <td>9</td>\n",
       "      <td>22</td>\n",
       "    </tr>\n",
       "    <tr>\n",
       "      <th>4</th>\n",
       "      <td>b128</td>\n",
       "      <td>20</td>\n",
       "      <td>42.731552</td>\n",
       "      <td>0</td>\n",
       "      <td>Capomulin</td>\n",
       "      <td>Female</td>\n",
       "      <td>9</td>\n",
       "      <td>22</td>\n",
       "    </tr>\n",
       "  </tbody>\n",
       "</table>\n",
       "</div>"
      ],
      "text/plain": [
       "  Mouse ID  Timepoint  Tumor Volume (mm3)  Metastatic Sites Drug Regimen  \\\n",
       "0     b128          0           45.000000                 0    Capomulin   \n",
       "1     b128          5           45.651331                 0    Capomulin   \n",
       "2     b128         10           43.270852                 0    Capomulin   \n",
       "3     b128         15           43.784893                 0    Capomulin   \n",
       "4     b128         20           42.731552                 0    Capomulin   \n",
       "\n",
       "      Sex  Age_months  Weight (g)  \n",
       "0  Female           9          22  \n",
       "1  Female           9          22  \n",
       "2  Female           9          22  \n",
       "3  Female           9          22  \n",
       "4  Female           9          22  "
      ]
     },
     "execution_count": 49,
     "metadata": {},
     "output_type": "execute_result"
    }
   ],
   "source": [
    "# Generate a scatter plot of average tumor volume vs. mouse weight \n",
    "# for all mice in the Capomulin regimen\n",
    "capomulin_treatment_regimes = treatment_regimes[treatment_regimes['Drug Regimen']== \"Capomulin\"]\n",
    "capomulin_treatment_regimes.head()"
   ]
  },
  {
   "cell_type": "code",
   "execution_count": 50,
   "metadata": {},
   "outputs": [
    {
     "data": {
      "text/html": [
       "<div>\n",
       "<style scoped>\n",
       "    .dataframe tbody tr th:only-of-type {\n",
       "        vertical-align: middle;\n",
       "    }\n",
       "\n",
       "    .dataframe tbody tr th {\n",
       "        vertical-align: top;\n",
       "    }\n",
       "\n",
       "    .dataframe thead th {\n",
       "        text-align: right;\n",
       "    }\n",
       "</style>\n",
       "<table border=\"1\" class=\"dataframe\">\n",
       "  <thead>\n",
       "    <tr style=\"text-align: right;\">\n",
       "      <th></th>\n",
       "      <th>Mouse ID</th>\n",
       "      <th>Weight (g)</th>\n",
       "      <th>Tumor Volume (mm3)</th>\n",
       "    </tr>\n",
       "  </thead>\n",
       "  <tbody>\n",
       "    <tr>\n",
       "      <th>0</th>\n",
       "      <td>b128</td>\n",
       "      <td>22</td>\n",
       "      <td>41.963636</td>\n",
       "    </tr>\n",
       "    <tr>\n",
       "      <th>1</th>\n",
       "      <td>b742</td>\n",
       "      <td>21</td>\n",
       "      <td>40.083699</td>\n",
       "    </tr>\n",
       "    <tr>\n",
       "      <th>2</th>\n",
       "      <td>f966</td>\n",
       "      <td>17</td>\n",
       "      <td>36.505973</td>\n",
       "    </tr>\n",
       "    <tr>\n",
       "      <th>3</th>\n",
       "      <td>g288</td>\n",
       "      <td>19</td>\n",
       "      <td>41.990097</td>\n",
       "    </tr>\n",
       "    <tr>\n",
       "      <th>4</th>\n",
       "      <td>g316</td>\n",
       "      <td>22</td>\n",
       "      <td>44.613344</td>\n",
       "    </tr>\n",
       "  </tbody>\n",
       "</table>\n",
       "</div>"
      ],
      "text/plain": [
       "  Mouse ID  Weight (g)  Tumor Volume (mm3)\n",
       "0     b128          22           41.963636\n",
       "1     b742          21           40.083699\n",
       "2     f966          17           36.505973\n",
       "3     g288          19           41.990097\n",
       "4     g316          22           44.613344"
      ]
     },
     "execution_count": 50,
     "metadata": {},
     "output_type": "execute_result"
    }
   ],
   "source": [
    "average_tumor = capomulin_treatment_regimes.groupby([\"Mouse ID\",\"Weight (g)\"])[\"Tumor Volume (mm3)\"].mean().reset_index()\n",
    "average_tumor.head()"
   ]
  },
  {
   "cell_type": "code",
   "execution_count": 51,
   "metadata": {},
   "outputs": [
    {
     "data": {
      "text/plain": [
       "<matplotlib.axes._subplots.AxesSubplot at 0x253df4ee2e8>"
      ]
     },
     "execution_count": 51,
     "metadata": {},
     "output_type": "execute_result"
    },
    {
     "data": {
      "image/png": "[encoded data removed]",
      "text/plain": [
       "<Figure size 576x576 with 1 Axes>"
      ]
     },
     "metadata": {
      "needs_background": "light"
     },
     "output_type": "display_data"
    }
   ],
   "source": [
    "average_tumor.plot(kind ='scatter', x = \"Weight (g)\",\n",
    "                   y = \"Tumor Volume (mm3)\", \n",
    "                   figsize=(8,8),\n",
    "                  title = \"Mouse Weight Vs. Average Tumor Volume for Capomulin\")"
   ]
  },
  {
   "cell_type": "markdown",
   "metadata": {},
   "source": [
    "## Correlation and Regression"
   ]
  },
  {
   "cell_type": "code",
   "execution_count": 52,
   "metadata": {},
   "outputs": [
    {
     "data": {
      "text/plain": [
       "0    41.963636\n",
       "1    40.083699\n",
       "2    36.505973\n",
       "Name: Tumor Volume (mm3), dtype: float64"
      ]
     },
     "execution_count": 52,
     "metadata": {},
     "output_type": "execute_result"
    }
   ],
   "source": [
    "avg_tumor = average_tumor['Tumor Volume (mm3)']\n",
    "avg_tumor.head(3)"
   ]
  },
  {
   "cell_type": "code",
   "execution_count": 53,
   "metadata": {},
   "outputs": [
    {
     "data": {
      "text/plain": [
       "0    22\n",
       "1    21\n",
       "2    17\n",
       "Name: Weight (g), dtype: int64"
      ]
     },
     "execution_count": 53,
     "metadata": {},
     "output_type": "execute_result"
    }
   ],
   "source": [
    "mouse_weight = average_tumor['Weight (g)']\n",
    "mouse_weight.head(3)"
   ]
  },
  {
   "cell_type": "code",
   "execution_count": 54,
   "metadata": {},
   "outputs": [
    {
     "name": "stdout",
     "output_type": "stream",
     "text": [
      "The correlation btwn mouse weight and ave tumor Vol for Capomulin treatment 0.84\n"
     ]
    }
   ],
   "source": [
    "correlation = stats.pearsonr(mouse_weight,avg_tumor)\n",
    "print(f\"The correlation btwn mouse weight and ave tumor Vol for Capomulin treatment {round(correlation[0],2)}\")"
   ]
  },
  {
   "cell_type": "code",
   "execution_count": 55,
   "metadata": {
    "scrolled": true
   },
   "outputs": [
    {
     "data": {
      "text/plain": [
       "Text(0.5, 1.0, 'Mouse Weight vs Tumor Volume(mm3) drug Capomulin')"
      ]
     },
     "execution_count": 55,
     "metadata": {},
     "output_type": "execute_result"
    },
    {
     "data": {
      "image/png": "[encoded data removed]",
      "text/plain": [
       "<Figure size 432x288 with 1 Axes>"
      ]
     },
     "metadata": {
      "needs_background": "light"
     },
     "output_type": "display_data"
    }
   ],
   "source": [
    "# Calculate the correlation coefficient and linear regression model \n",
    "# for mouse weight and average tumor volume for the Capomulin regimen\n",
    "x_vals = mouse_weight\n",
    "y_vals = avg_tumor\n",
    "(slope,intercept,rvalue,pvalue, stderr) = stats.linregress(x_vals, y_vals)\n",
    "regress_values = x_vals * slope + intercept\n",
    "linear_equation = \"y = \" + str(round(slope,2)) + \"x + \" + str(round(intercept,2))\n",
    "plt.scatter(x_vals, y_vals)\n",
    "plt.plot(x_vals, regress_values, \"r-\")\n",
    "plt.annotate(linear_equation, (8,6), fontsize=15, color=\"red\")\n",
    "plt.xlabel('Mouse Weight')\n",
    "plt.ylabel('Average Tumor Vol (mm3)')\n",
    "plt.title(\"Mouse Weight vs Tumor Volume(mm3) drug Capomulin\")\n",
    "\n",
    "#plt.show()\n"
   ]
  },
  {
   "cell_type": "markdown",
   "metadata": {},
   "source": [
    "# Observations and Insights"
   ]
  },
  {
   "cell_type": "code",
   "execution_count": null,
   "metadata": {},
   "outputs": [],
   "source": []
  },
  {
   "cell_type": "code",
   "execution_count": null,
   "metadata": {},
   "outputs": [],
   "source": []
  }
 ],
 "metadata": {
  "anaconda-cloud": {},
  "kernelspec": {
   "display_name": "Python [conda env:PythonData]",
   "language": "python",
   "name": "conda-env-PythonData-py"
  },
  "language_info": {
   "codemirror_mode": {
    "name": "ipython",
    "version": 3
   },
   "file_extension": ".py",
   "mimetype": "text/x-python",
   "name": "python",
   "nbconvert_exporter": "python",
   "pygments_lexer": "ipython3",
   "version": "3.6.10"
  },
  "toc": {
   "base_numbering": 1,
   "nav_menu": {},
   "number_sections": true,
   "sideBar": true,
   "skip_h1_title": false,
   "title_cell": "Table of Contents",
   "title_sidebar": "Contents",
   "toc_cell": false,
   "toc_position": {},
   "toc_section_display": true,
   "toc_window_display": false
  },
  "varInspector": {
   "cols": {
    "lenName": 16,
    "lenType": 16,
    "lenVar": 40
   },
   "kernels_config": {
    "python": {
     "delete_cmd_postfix": "",
     "delete_cmd_prefix": "del ",
     "library": "var_list.py",
     "varRefreshCmd": "print(var_dic_list())"
    },
    "r": {
     "delete_cmd_postfix": ") ",
     "delete_cmd_prefix": "rm(",
     "library": "var_list.r",
     "varRefreshCmd": "cat(var_dic_list()) "
    }
   },
   "types_to_exclude": [
    "module",
    "function",
    "builtin_function_or_method",
    "instance",
    "_Feature"
   ],
   "window_display": false
  }
 },
 "nbformat": 4,
 "nbformat_minor": 4
}
